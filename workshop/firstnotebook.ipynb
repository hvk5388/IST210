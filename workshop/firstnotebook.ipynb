{
  "nbformat": 4,
  "nbformat_minor": 0,
  "metadata": {
    "colab": {
      "name": "IST210Workshop.ipynb",
      "provenance": [],
      "include_colab_link": true
    },
    "kernelspec": {
      "name": "python3",
      "display_name": "Python 3"
    }
  },
  "cells": [
    {
      "cell_type": "markdown",
      "metadata": {
        "id": "view-in-github",
        "colab_type": "text"
      },
      "source": [
        "<a href=\"https://colab.research.google.com/github/hvk5388/IST210/blob/master/workshop/firstnotebook.ipynb\" target=\"_parent\"><img src=\"https://colab.research.google.com/assets/colab-badge.svg\" alt=\"Open In Colab\"/></a>"
      ]
    },
    {
      "cell_type": "markdown",
      "metadata": {
        "id": "Gtlm4SJodFhK",
        "colab_type": "text"
      },
      "source": [
        "# **this is my first notebook**"
      ]
    },
    {
      "cell_type": "markdown",
      "metadata": {
        "id": "S7qniv5rdpC6",
        "colab_type": "text"
      },
      "source": [
        "![random drawing for example](https://raw.githubusercontent.com/hvk5388/IST210/master/workshop/IST210Workshop.png)"
      ]
    }
  ]
}